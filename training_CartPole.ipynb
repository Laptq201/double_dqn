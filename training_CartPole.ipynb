{
 "cells": [
  {
   "cell_type": "code",
   "execution_count": null,
   "metadata": {
    "_cell_guid": "b1076dfc-b9ad-4769-8c92-a6c4dae69d19",
    "_uuid": "8f2839f25d086af736a60e9eeb907d3b93b6e0e5",
    "execution": {
     "iopub.execute_input": "2024-12-11T07:19:29.205429Z",
     "iopub.status.busy": "2024-12-11T07:19:29.205056Z",
     "iopub.status.idle": "2024-12-11T07:19:34.100441Z",
     "shell.execute_reply": "2024-12-11T07:19:34.098905Z",
     "shell.execute_reply.started": "2024-12-11T07:19:29.205388Z"
    },
    "trusted": true
   },
   "outputs": [],
   "source": [
    "!git clone https://github.com/Laptq201/double_dqn.git"
   ]
  },
  {
   "cell_type": "code",
   "execution_count": null,
   "metadata": {
    "execution": {
     "iopub.execute_input": "2024-12-11T07:19:34.103135Z",
     "iopub.status.busy": "2024-12-11T07:19:34.102520Z",
     "iopub.status.idle": "2024-12-11T07:19:34.112276Z",
     "shell.execute_reply": "2024-12-11T07:19:34.110882Z",
     "shell.execute_reply.started": "2024-12-11T07:19:34.103091Z"
    },
    "trusted": true
   },
   "outputs": [],
   "source": [
    "%cd /kaggle/working/double_dqn/cleanrl"
   ]
  },
  {
   "cell_type": "code",
   "execution_count": null,
   "metadata": {
    "execution": {
     "iopub.execute_input": "2024-12-11T07:19:34.136240Z",
     "iopub.status.busy": "2024-12-11T07:19:34.135755Z",
     "iopub.status.idle": "2024-12-11T07:19:47.121284Z",
     "shell.execute_reply": "2024-12-11T07:19:47.119925Z",
     "shell.execute_reply.started": "2024-12-11T07:19:34.136201Z"
    },
    "trusted": true
   },
   "outputs": [],
   "source": [
    "!pip install -r /kaggle/working/lab_double_dqn/requirements/requirements.txt"
   ]
  },
  {
   "cell_type": "code",
   "execution_count": null,
   "metadata": {
    "execution": {
     "iopub.execute_input": "2024-12-11T07:19:47.131531Z",
     "iopub.status.busy": "2024-12-11T07:19:47.131195Z",
     "iopub.status.idle": "2024-12-11T07:19:47.319012Z",
     "shell.execute_reply": "2024-12-11T07:19:47.317788Z",
     "shell.execute_reply.started": "2024-12-11T07:19:47.131499Z"
    },
    "trusted": true
   },
   "outputs": [],
   "source": [
    "import wandb\n",
    "wandb.login(key = \"\") #enter your key here"
   ]
  },
  {
   "cell_type": "code",
   "execution_count": null,
   "metadata": {
    "execution": {
     "iopub.execute_input": "2024-12-11T07:19:47.320718Z",
     "iopub.status.busy": "2024-12-11T07:19:47.320389Z",
     "iopub.status.idle": "2024-12-11T07:19:59.486322Z",
     "shell.execute_reply": "2024-12-11T07:19:59.484787Z",
     "shell.execute_reply.started": "2024-12-11T07:19:47.320688Z"
    },
    "trusted": true
   },
   "outputs": [],
   "source": [
    "!pip install --upgrade typing_extensions\n"
   ]
  },
  {
   "cell_type": "code",
   "execution_count": null,
   "metadata": {
    "collapsed": true,
    "execution": {
     "iopub.execute_input": "2024-12-11T07:19:59.489037Z",
     "iopub.status.busy": "2024-12-11T07:19:59.488485Z",
     "iopub.status.idle": "2024-12-11T07:22:19.255520Z",
     "shell.execute_reply": "2024-12-11T07:22:19.254058Z",
     "shell.execute_reply.started": "2024-12-11T07:19:59.488991Z"
    },
    "jupyter": {
     "outputs_hidden": true
    },
    "trusted": true
   },
   "outputs": [],
   "source": [
    "!python ddqn.py --seed 22520750 \\\n",
    "                                --no_cuda \\\n",
    "                                --env-id CartPole-v0 \\\n",
    "                                --total-timesteps 200000 \\\n",
    "                                --track \\\n",
    "                                --wandb-project-name cartpole \\\n",
    "                                --capture_video\n"
   ]
  },
  {
   "cell_type": "code",
   "execution_count": null,
   "metadata": {
    "trusted": true
   },
   "outputs": [],
   "source": [
    "!python ddqn.py --seed 22520751 \\\n",
    "                                --no_cuda \\\n",
    "                                --env-id CartPole-v0 \\\n",
    "                                --total-timesteps 200000 \\\n",
    "                                --track \\\n",
    "                                --wandb-project-name cartpole \\\n",
    "                                --capture_video\n"
   ]
  },
  {
   "cell_type": "code",
   "execution_count": null,
   "metadata": {
    "trusted": true
   },
   "outputs": [],
   "source": [
    "!python ddqn.py --seed 22520752 \\\n",
    "                                --no_cuda \\\n",
    "                                --env-id CartPole-v0 \\\n",
    "                                --total-timesteps 200000 \\\n",
    "                                --track \\\n",
    "                                --wandb-project-name cartpole \\\n",
    "                                --capture_video\n"
   ]
  },
  {
   "cell_type": "code",
   "execution_count": null,
   "metadata": {
    "trusted": true
   },
   "outputs": [],
   "source": [
    "# !tensorboard --logdir runs"
   ]
  },
  {
   "cell_type": "code",
   "execution_count": null,
   "metadata": {
    "execution": {
     "iopub.execute_input": "2024-12-10T01:52:46.552082Z",
     "iopub.status.busy": "2024-12-10T01:52:46.551551Z",
     "iopub.status.idle": "2024-12-10T01:52:47.724070Z",
     "shell.execute_reply": "2024-12-10T01:52:47.722617Z",
     "shell.execute_reply.started": "2024-12-10T01:52:46.552040Z"
    },
    "trusted": true
   },
   "outputs": [],
   "source": [
    "# !rm -rf ~/.wandb\n"
   ]
  },
  {
   "cell_type": "code",
   "execution_count": null,
   "metadata": {
    "trusted": true
   },
   "outputs": [],
   "source": []
  }
 ],
 "metadata": {
  "kaggle": {
   "accelerator": "none",
   "dataSources": [],
   "dockerImageVersionId": 30787,
   "isGpuEnabled": false,
   "isInternetEnabled": true,
   "language": "python",
   "sourceType": "notebook"
  },
  "kernelspec": {
   "display_name": "Python 3",
   "language": "python",
   "name": "python3"
  },
  "language_info": {
   "codemirror_mode": {
    "name": "ipython",
    "version": 3
   },
   "file_extension": ".py",
   "mimetype": "text/x-python",
   "name": "python",
   "nbconvert_exporter": "python",
   "pygments_lexer": "ipython3",
   "version": "3.10.14"
  }
 },
 "nbformat": 4,
 "nbformat_minor": 4
}
