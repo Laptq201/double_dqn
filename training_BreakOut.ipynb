{
 "cells": [
  {
   "cell_type": "code",
   "execution_count": null,
   "metadata": {
    "_cell_guid": "b1076dfc-b9ad-4769-8c92-a6c4dae69d19",
    "_uuid": "8f2839f25d086af736a60e9eeb907d3b93b6e0e5",
    "execution": {
     "iopub.execute_input": "2024-12-13T05:14:35.048386Z",
     "iopub.status.busy": "2024-12-13T05:14:35.047976Z",
     "iopub.status.idle": "2024-12-13T05:14:39.809374Z",
     "shell.execute_reply": "2024-12-13T05:14:39.808243Z",
     "shell.execute_reply.started": "2024-12-13T05:14:35.048358Z"
    },
    "trusted": true
   },
   "outputs": [],
   "source": [
    "!git clone https://github.com/Laptq201/double_dqn.git"
   ]
  },
  {
   "cell_type": "code",
   "execution_count": null,
   "metadata": {
    "execution": {
     "iopub.execute_input": "2024-12-13T05:14:39.812011Z",
     "iopub.status.busy": "2024-12-13T05:14:39.811603Z",
     "iopub.status.idle": "2024-12-13T05:14:39.819156Z",
     "shell.execute_reply": "2024-12-13T05:14:39.818189Z",
     "shell.execute_reply.started": "2024-12-13T05:14:39.811967Z"
    },
    "trusted": true
   },
   "outputs": [],
   "source": [
    "%cd /kaggle/working/double_dqn/cleanrl"
   ]
  },
  {
   "cell_type": "code",
   "execution_count": null,
   "metadata": {
    "execution": {
     "iopub.execute_input": "2024-12-13T05:14:39.820732Z",
     "iopub.status.busy": "2024-12-13T05:14:39.820387Z",
     "iopub.status.idle": "2024-12-13T05:15:32.464938Z",
     "shell.execute_reply": "2024-12-13T05:15:32.464036Z",
     "shell.execute_reply.started": "2024-12-13T05:14:39.820696Z"
    },
    "trusted": true
   },
   "outputs": [],
   "source": [
    "!pip install --upgrade \"cleanrl[dqn-atari]\""
   ]
  },
  {
   "cell_type": "code",
   "execution_count": null,
   "metadata": {
    "execution": {
     "iopub.execute_input": "2024-12-13T05:15:32.467293Z",
     "iopub.status.busy": "2024-12-13T05:15:32.466999Z",
     "iopub.status.idle": "2024-12-13T05:15:35.226988Z",
     "shell.execute_reply": "2024-12-13T05:15:35.226118Z",
     "shell.execute_reply.started": "2024-12-13T05:15:32.467263Z"
    },
    "trusted": true
   },
   "outputs": [],
   "source": [
    "import wandb\n",
    "wandb.login(key = \"\") #enter your key here"
   ]
  },
  {
   "cell_type": "code",
   "execution_count": null,
   "metadata": {
    "execution": {
     "iopub.execute_input": "2024-12-13T05:15:35.228399Z",
     "iopub.status.busy": "2024-12-13T05:15:35.228040Z",
     "iopub.status.idle": "2024-12-13T05:15:49.178662Z",
     "shell.execute_reply": "2024-12-13T05:15:49.177497Z",
     "shell.execute_reply.started": "2024-12-13T05:15:35.228373Z"
    },
    "trusted": true
   },
   "outputs": [],
   "source": [
    "!pip install poetry"
   ]
  },
  {
   "cell_type": "code",
   "execution_count": null,
   "metadata": {
    "execution": {
     "iopub.execute_input": "2024-12-13T05:18:13.010291Z",
     "iopub.status.busy": "2024-12-13T05:18:13.009572Z",
     "iopub.status.idle": "2024-12-13T05:18:18.616502Z",
     "shell.execute_reply": "2024-12-13T05:18:18.615586Z",
     "shell.execute_reply.started": "2024-12-13T05:18:13.010251Z"
    },
    "trusted": true
   },
   "outputs": [],
   "source": [
    "!poetry install -E atari"
   ]
  },
  {
   "cell_type": "code",
   "execution_count": null,
   "metadata": {
    "execution": {
     "iopub.execute_input": "2024-12-13T05:18:18.618888Z",
     "iopub.status.busy": "2024-12-13T05:18:18.618496Z",
     "iopub.status.idle": "2024-12-13T05:18:20.478125Z",
     "shell.execute_reply": "2024-12-13T05:18:20.476947Z",
     "shell.execute_reply.started": "2024-12-13T05:18:18.618843Z"
    },
    "trusted": true
   },
   "outputs": [],
   "source": [
    "!poetry run python ddqn_atari.py \\\n",
    "    --seed 22520751 \\\n",
    "    --env-id BreakoutNoFrameskip-v4 \\\n",
    "    --total-timesteps 10000000 \\\n",
    "    --track \\\n",
    "    --wandb-project-name cleanrltest_atari \\\n",
    "    --save_model \n"
   ]
  },
  {
   "cell_type": "code",
   "execution_count": null,
   "metadata": {
    "trusted": true
   },
   "outputs": [],
   "source": []
  }
 ],
 "metadata": {
  "kaggle": {
   "accelerator": "gpu",
   "dataSources": [],
   "dockerImageVersionId": 30786,
   "isGpuEnabled": true,
   "isInternetEnabled": true,
   "language": "python",
   "sourceType": "notebook"
  },
  "kernelspec": {
   "display_name": "Python 3",
   "language": "python",
   "name": "python3"
  },
  "language_info": {
   "codemirror_mode": {
    "name": "ipython",
    "version": 3
   },
   "file_extension": ".py",
   "mimetype": "text/x-python",
   "name": "python",
   "nbconvert_exporter": "python",
   "pygments_lexer": "ipython3",
   "version": "3.10.14"
  }
 },
 "nbformat": 4,
 "nbformat_minor": 4
}
